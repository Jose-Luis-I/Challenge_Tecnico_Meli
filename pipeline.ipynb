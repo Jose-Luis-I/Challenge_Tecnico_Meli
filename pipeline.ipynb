{
 "cells": [
  {
   "cell_type": "code",
   "execution_count": null,
   "metadata": {},
   "outputs": [],
   "source": [
    "from info_data import info_data\n",
    "from sklearn.cluster import AgglomerativeClustering\n",
    "from sklearn.preprocessing import OneHotEncoder\n",
    "import pandas as pd\n",
    "import numpy as np\n"
   ]
  },
  {
   "cell_type": "code",
   "execution_count": null,
   "metadata": {},
   "outputs": [],
   "source": [
    "k = info_data('MCO')\n",
    "categorias = k.categorias\n",
    "\n",
    "cat_el = [1747, 1039, 1168, 1743, 1051, 1648, 1144, 1276, 5726, 1000]\n"
   ]
  },
  {
   "cell_type": "code",
   "execution_count": null,
   "metadata": {},
   "outputs": [],
   "source": [
    "vars = ['id', 'title', 'condition',\n",
    "        'listing_type_id',  'buying_mode',  'category_id',\n",
    "        'domain_id',    'price',\n",
    "        'original_price', 'sold_quantity', 'available_quantity',\n",
    "        'accepts_mercadopago', 'tags',\n",
    "        'garantia', 'id_seller', 'name_seller', 'fecha_registro', 'level_seller', 'status_seller', 'cancelados',\n",
    "        'neg_r', 'completados', 'pos_r', 'nrl_r', 'ciudad', 'region', 'logistic_type', 'precio', 'precio_base', 'cant_ini', 'nombre_garantia', 'n_garantia', 'unid_garantia', 'categoria']\n",
    "\n",
    "info = k.man_inf(cat_el, 50)\n",
    "\n",
    "\n",
    "final = [{x: y for x, y in el.items() if x in vars} for el in info]\n",
    "df = pd.DataFrame(final)\n"
   ]
  },
  {
   "cell_type": "code",
   "execution_count": null,
   "metadata": {},
   "outputs": [],
   "source": [
    "df['now'] = pd.Timestamp.now().date()\n",
    "\n",
    "df['antiguedad'] = (pd.to_datetime(df.now, utc=True) -\n",
    "                    pd.to_datetime(df.fecha_registro, utc=True)).dt.days\n",
    "df.drop(['now', 'fecha_registro'], axis=1, inplace=True)\n",
    "\n",
    "item_vars = ['id', 'title', 'condition', 'listing_type_id', 'buying_mode',\n",
    "             'category_id', 'domain_id', 'price', 'original_price', 'sold_quantity',\n",
    "             'available_quantity', 'accepts_mercadopago',\n",
    "             'tags', 'logistic_type', 'nombre_garantia', 'n_garantia', 'precio', 'precio_base', 'cant_ini', 'unid_garantia', 'categoria']  # NOTE: Agregar unid_garantia,categoria\n",
    "\n",
    "seller_vars = [el for el in df.columns if el not in item_vars]\n"
   ]
  },
  {
   "cell_type": "code",
   "execution_count": null,
   "metadata": {},
   "outputs": [],
   "source": [
    "cat_vars = [el for el in df.columns if df[el].dtype == 'O']\n",
    "num_vars = [el for el in df.columns if el not in cat_vars]\n",
    "ohe_vars = ['condition', 'listing_type_id', 'buying_mode',\n",
    "            'domain_id', 'logistic_type', 'nombre_garantia']\n",
    "df.n_garantia.fillna(df.n_garantia.median(), inplace=True)\n",
    "df.original_price.fillna(df.original_price.median(), inplace=True)\n",
    "df.logistic_type.fillna(df.logistic_type.mode().values[0], inplace=True)\n",
    "df.nombre_garantia.fillna(df.nombre_garantia.mode().values[0], inplace=True)\n"
   ]
  },
  {
   "cell_type": "code",
   "execution_count": null,
   "metadata": {},
   "outputs": [],
   "source": [
    "enc_i = OneHotEncoder(handle_unknown='ignore')\n",
    "enc_i.fit(df[ohe_vars])\n",
    "ohe_i_df = pd.DataFrame(enc_i.transform(\n",
    "    df[ohe_vars]).toarray(), columns=enc_i.get_feature_names_out())\n",
    "\n",
    "df = pd.concat([df, ohe_i_df], axis=1)\n"
   ]
  },
  {
   "cell_type": "code",
   "execution_count": null,
   "metadata": {},
   "outputs": [],
   "source": [
    "df['n_garantia'] = np.where(df.unid_garantia == 'meses', df.n_garantia*30,\n",
    "                            np.where(df.unid_garantia == 'años', df.n_garantia*365, df.n_garantia))\n",
    "dt = df[seller_vars].drop_duplicates().dropna()\n"
   ]
  },
  {
   "cell_type": "code",
   "execution_count": null,
   "metadata": {},
   "outputs": [],
   "source": [
    "# Medianas item_vars\n",
    "med_df = df.groupby('id_seller')[['price', 'original_price',\n",
    "                                  'available_quantity', 'n_garantia', 'precio', 'precio_base', 'sold_quantity', 'n_garantia']].median()\n",
    "med_df.columns = [el+'_med' for el in med_df.columns]\n",
    "\n",
    "dt = dt.merge(med_df, how='left', left_on='id_seller', right_index=True)\n"
   ]
  },
  {
   "cell_type": "code",
   "execution_count": null,
   "metadata": {},
   "outputs": [],
   "source": [
    "# Maximos item_vars\n",
    "max_df = df.groupby('id_seller')[['price', 'original_price',\n",
    "                                  'available_quantity', 'n_garantia', 'precio', 'precio_base', 'sold_quantity', 'n_garantia']].max()\n",
    "max_df.columns = [el+'_max' for el in max_df.columns]\n",
    "\n",
    "dt = dt.merge(max_df, how='left', left_on='id_seller', right_index=True)\n"
   ]
  },
  {
   "cell_type": "code",
   "execution_count": null,
   "metadata": {},
   "outputs": [],
   "source": [
    "# Minimos item_vars\n",
    "min_df = df.groupby('id_seller')[['price', 'original_price',\n",
    "                                  'available_quantity', 'n_garantia', 'precio', 'precio_base', 'sold_quantity', 'n_garantia']].min()\n",
    "min_df.columns = [el+'_min' for el in min_df.columns]\n",
    "\n",
    "dt = dt.merge(min_df, how='left', left_on='id_seller', right_index=True)\n"
   ]
  },
  {
   "cell_type": "code",
   "execution_count": null,
   "metadata": {},
   "outputs": [],
   "source": [
    "# Cant. Vendidad\n",
    "cant_df = df.groupby('id_seller')['sold_quantity'].sum()\n",
    "dt = dt.merge(cant_df, how='left', left_on='id_seller', right_index=True)\n"
   ]
  },
  {
   "cell_type": "code",
   "execution_count": null,
   "metadata": {},
   "outputs": [],
   "source": [
    "# Cant. Prod\n",
    "prod_df = df.groupby('id_seller').title.nunique()\n",
    "dt = dt.merge(prod_df, how='left', left_on='id_seller', right_index=True)\n"
   ]
  },
  {
   "cell_type": "code",
   "execution_count": null,
   "metadata": {},
   "outputs": [],
   "source": [
    "# Ohe Vars Cant.\n",
    "ohe_group = df.groupby('id_seller')[enc_i.get_feature_names_out()].sum()\n",
    "dt = dt.merge(ohe_group, how='left', left_on='id_seller', right_index=True)\n"
   ]
  },
  {
   "cell_type": "code",
   "execution_count": null,
   "metadata": {},
   "outputs": [],
   "source": [
    "dt.drop('level_seller', axis=1, inplace=True)\n",
    "\n",
    "\n",
    "enc = OneHotEncoder(handle_unknown='ignore')\n",
    "enc.fit(dt[['status_seller']])\n",
    "enc_df = pd.DataFrame(enc.transform(dt[['status_seller']]\n",
    "                                    ).toarray(), columns=enc.get_feature_names_out())\n"
   ]
  },
  {
   "cell_type": "code",
   "execution_count": null,
   "metadata": {},
   "outputs": [],
   "source": [
    "dt = pd.concat([dt.reset_index(drop=True), enc_df],\n",
    "               axis=1).drop('status_seller', axis=1)\n",
    "\n",
    "dtp = dt.drop(['id_seller', 'name_seller', 'ciudad', 'region'], axis=1)\n"
   ]
  },
  {
   "cell_type": "code",
   "execution_count": null,
   "metadata": {},
   "outputs": [],
   "source": [
    "ac = AgglomerativeClustering(n_clusters=5)\n",
    "ac_df = ac.fit_predict(dtp)\n",
    "\n",
    "dt['agglomerative'] = ac_df\n",
    "\n",
    "dt.to_csv('classified.csv', index=False)\n"
   ]
  }
 ],
 "metadata": {
  "language_info": {
   "name": "python"
  },
  "orig_nbformat": 4
 },
 "nbformat": 4,
 "nbformat_minor": 2
}
