{
 "cells": [
  {
   "cell_type": "code",
   "execution_count": 1,
   "metadata": {},
   "outputs": [],
   "source": [
    "import pandas as pd\n",
    "import plotly.express as px\n",
    "from sklearn.preprocessing import OneHotEncoder\n",
    "import numpy as np\n"
   ]
  },
  {
   "cell_type": "code",
   "execution_count": null,
   "metadata": {},
   "outputs": [],
   "source": [
    "df = pd.read_csv('data.csv')\n",
    "\n",
    "df['now'] = pd.Timestamp.now().date()\n",
    "\n",
    "df['antiguedad'] = (pd.to_datetime(df.now, utc=True) -\n",
    "                    pd.to_datetime(df.fecha_registro, utc=True)).dt.days\n",
    "df.drop(['now', 'fecha_registro'], axis=1, inplace=True)\n",
    "\n",
    "item_vars = ['id', 'title', 'condition', 'listing_type_id', 'buying_mode',\n",
    "             'category_id', 'domain_id', 'price', 'original_price', 'sold_quantity',\n",
    "             'available_quantity', 'accepts_mercadopago',\n",
    "             'tags', 'logistic_type', 'nombre_garantia', 'n_garantia', 'precio', 'precio_base', 'cant_ini', 'unid_garantia', 'categoria']\n"
   ]
  },
  {
   "cell_type": "code",
   "execution_count": null,
   "metadata": {},
   "outputs": [],
   "source": [
    "seller_vars = [el for el in df.columns if el not in item_vars]\n",
    "\n",
    "\n",
    "cat_vars = [el for el in df.columns if df[el].dtype == 'O']\n",
    "num_vars = [el for el in df.columns if el not in cat_vars]\n",
    "ohe_vars = ['condition', 'listing_type_id', 'buying_mode',\n",
    "            'domain_id', 'logistic_type', 'nombre_garantia', 'categoria']\n"
   ]
  },
  {
   "cell_type": "code",
   "execution_count": null,
   "metadata": {},
   "outputs": [],
   "source": [
    "df.n_garantia.fillna(df.n_garantia.median(), inplace=True)\n",
    "df.original_price.fillna(df.original_price.median(), inplace=True)\n",
    "df.logistic_type.fillna(df.logistic_type.mode().values[0], inplace=True)\n",
    "df.nombre_garantia.fillna(df.nombre_garantia.mode().values[0], inplace=True)\n"
   ]
  },
  {
   "cell_type": "code",
   "execution_count": null,
   "metadata": {},
   "outputs": [],
   "source": [
    "enc = OneHotEncoder(handle_unknown='ignore')\n",
    "enc.fit(df[ohe_vars])\n",
    "ohe_df = pd.DataFrame(enc.transform(\n",
    "    df[ohe_vars]).toarray(), columns=enc.get_feature_names_out())\n",
    "\n",
    "df = pd.concat([df, ohe_df], axis=1)\n"
   ]
  },
  {
   "cell_type": "code",
   "execution_count": null,
   "metadata": {},
   "outputs": [],
   "source": [
    "df['n_garantia'] = np.where(df.unid_garantia == 'meses', df.n_garantia*30,\n",
    "                            np.where(df.unid_garantia == 'años', df.n_garantia*365, df.n_garantia))\n",
    "dt = df[seller_vars].drop_duplicates().dropna()\n"
   ]
  },
  {
   "cell_type": "code",
   "execution_count": null,
   "metadata": {},
   "outputs": [],
   "source": [
    "# Medianas item_vars\n",
    "med_df = df.groupby('id_seller')[['price', 'original_price',\n",
    "                                  'available_quantity', 'n_garantia', 'precio', 'precio_base', 'sold_quantity', 'n_garantia']].median()\n",
    "med_df.columns = [el+'_med' for el in med_df.columns]\n",
    "\n",
    "dt = dt.merge(med_df, how='left', left_on='id_seller', right_index=True)\n"
   ]
  },
  {
   "cell_type": "code",
   "execution_count": null,
   "metadata": {},
   "outputs": [],
   "source": [
    "# Maximos item_vars\n",
    "max_df = df.groupby('id_seller')[['price', 'original_price',\n",
    "                                  'available_quantity', 'n_garantia', 'precio', 'precio_base', 'sold_quantity', 'n_garantia']].max()\n",
    "max_df.columns = [el+'_max' for el in max_df.columns]\n",
    "\n",
    "dt = dt.merge(max_df, how='left', left_on='id_seller', right_index=True)\n"
   ]
  },
  {
   "cell_type": "code",
   "execution_count": null,
   "metadata": {},
   "outputs": [],
   "source": [
    "# Minimos item_vars\n",
    "min_df = df.groupby('id_seller')[['price', 'original_price',\n",
    "                                  'available_quantity', 'n_garantia', 'precio', 'precio_base', 'sold_quantity', 'n_garantia']].min()\n",
    "min_df.columns = [el+'_min' for el in min_df.columns]\n",
    "\n",
    "dt = dt.merge(min_df, how='left', left_on='id_seller', right_index=True)\n"
   ]
  },
  {
   "cell_type": "code",
   "execution_count": null,
   "metadata": {},
   "outputs": [],
   "source": [
    "# Cant. Vendidad\n",
    "# NOTE: SE OBSERVO QUE MUCHOS SELLERS TIENEN LA MISMA CANTIDAD DE VENDIDOS, SE OBSERVA LA VARIABLE POR HISTOGRAMA\n",
    "cant_df = df.groupby('id_seller')['sold_quantity'].sum()\n",
    "\"\"\"fig = px.histogram(df, x='sold_quantity', histnorm='percent',\n",
    "                   template='simple_white', nbins=50)\n",
    "fig.show()\n",
    "\"\"\"\n",
    "dt = dt.merge(cant_df, how='left', left_on='id_seller', right_index=True)\n"
   ]
  },
  {
   "cell_type": "code",
   "execution_count": null,
   "metadata": {},
   "outputs": [],
   "source": [
    "# Cant. Prod\n",
    "prod_df = df.groupby('id_seller').title.nunique()\n",
    "dt = dt.merge(prod_df, how='left', left_on='id_seller', right_index=True)\n"
   ]
  },
  {
   "cell_type": "code",
   "execution_count": null,
   "metadata": {},
   "outputs": [],
   "source": [
    "# Ohe Vars Cant.\n",
    "ohe_group = df.groupby('id_seller')[enc.get_feature_names_out()].sum()\n",
    "dt = dt.merge(ohe_group, how='left', left_on='id_seller', right_index=True)\n"
   ]
  },
  {
   "cell_type": "code",
   "execution_count": null,
   "metadata": {},
   "outputs": [],
   "source": [
    "dt.to_csv('clust.csv', index=False)\n"
   ]
  }
 ],
 "metadata": {
  "kernelspec": {
   "display_name": "env",
   "language": "python",
   "name": "python3"
  },
  "language_info": {
   "codemirror_mode": {
    "name": "ipython",
    "version": 3
   },
   "file_extension": ".py",
   "mimetype": "text/x-python",
   "name": "python",
   "nbconvert_exporter": "python",
   "pygments_lexer": "ipython3",
   "version": "3.8.10"
  },
  "orig_nbformat": 4
 },
 "nbformat": 4,
 "nbformat_minor": 2
}
